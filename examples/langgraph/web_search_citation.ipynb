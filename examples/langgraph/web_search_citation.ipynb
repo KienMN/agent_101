{
 "cells": [
  {
   "cell_type": "markdown",
   "id": "fa9fc5fe",
   "metadata": {},
   "source": [
    "## Langgraph: Search web for answer and cite source"
   ]
  },
  {
   "cell_type": "markdown",
   "id": "e7a6d34d",
   "metadata": {},
   "source": [
    "Reference: https://github.com/langchain-ai/langchain/blob/master/docs/docs/how_to/qa_citations.ipynb"
   ]
  },
  {
   "cell_type": "code",
   "execution_count": 1,
   "id": "3c8061cf",
   "metadata": {},
   "outputs": [],
   "source": [
    "import dotenv\n",
    "from langchain_community.tools import DuckDuckGoSearchResults, DuckDuckGoSearchRun\n",
    "from langchain_community.utilities import DuckDuckGoSearchAPIWrapper\n",
    "from langchain_core.prompts import ChatPromptTemplate\n",
    "from langchain_groq import ChatGroq\n",
    "from langgraph.graph import START, StateGraph\n",
    "from pydantic import BaseModel, Field"
   ]
  },
  {
   "cell_type": "code",
   "execution_count": 2,
   "id": "09ebf3fd",
   "metadata": {},
   "outputs": [
    {
     "data": {
      "text/plain": [
       "True"
      ]
     },
     "execution_count": 2,
     "metadata": {},
     "output_type": "execute_result"
    }
   ],
   "source": [
    "dotenv.load_dotenv()"
   ]
  },
  {
   "cell_type": "code",
   "execution_count": 3,
   "id": "86b8a6a4",
   "metadata": {},
   "outputs": [
    {
     "name": "stdout",
     "output_type": "stream",
     "text": [
      "================================\u001b[1m System Message \u001b[0m================================\n",
      "\n",
      "You're a helpful AI assistant. Given a user question and some website snippets, answer the user question. If none of the websites answer the question, just say you don't know.\n",
      "\n",
      "Here are the website searched: \u001b[33;1m\u001b[1;3m{context}\u001b[0m\n",
      "\n",
      "================================\u001b[1m Human Message \u001b[0m=================================\n",
      "\n",
      "\u001b[33;1m\u001b[1;3m{question}\u001b[0m\n"
     ]
    }
   ],
   "source": [
    "system_prompt = (\n",
    "    \"You're a helpful AI assistant. Given a user question \"\n",
    "    \"and some website snippets, answer the user \"\n",
    "    \"question. If none of the websites answer the question, \"\n",
    "    \"just say you don't know.\"\n",
    "    \"\\n\\nHere are the website searched: \"\n",
    "    \"{context}\"\n",
    ")\n",
    "\n",
    "prompt = ChatPromptTemplate.from_messages(\n",
    "    [\n",
    "        (\"system\", system_prompt),\n",
    "        (\"human\", \"{question}\"),\n",
    "    ]\n",
    ")\n",
    "\n",
    "prompt.pretty_print()"
   ]
  },
  {
   "cell_type": "code",
   "execution_count": 4,
   "id": "f6bd446e",
   "metadata": {},
   "outputs": [],
   "source": [
    "model = ChatGroq(model=\"llama-3.3-70b-versatile\")"
   ]
  },
  {
   "cell_type": "code",
   "execution_count": 5,
   "id": "aa40d6b6",
   "metadata": {},
   "outputs": [],
   "source": [
    "# Format the answer to having a schema\n",
    "\n",
    "class Citation(BaseModel):\n",
    "    text: str = Field(\n",
    "        ...,\n",
    "        description=\"The VERBATIM quote from the specified source that justifies the answer.\",\n",
    "    )\n",
    "    url: str = Field(..., description=\"The URL of the source\")\n",
    "\n",
    "\n",
    "class QuotedAnswer(BaseModel):\n",
    "    \"\"\"Answer the user question based only on the given sources, and cite the sources used.\"\"\"\n",
    "\n",
    "    answer: str = Field(\n",
    "        ...,\n",
    "        description=\"The answer to the question, which is based only on the given sources.\",\n",
    "    )\n",
    "    citation: list[Citation] = Field(\n",
    "        ..., description=\"The citation that justifies the answer.\"\n",
    "    )"
   ]
  },
  {
   "cell_type": "code",
   "execution_count": 6,
   "id": "7e853cec",
   "metadata": {},
   "outputs": [],
   "source": [
    "class State(BaseModel):\n",
    "    question: str\n",
    "    context: list[dict] | None = None\n",
    "    answer: QuotedAnswer | None = None"
   ]
  },
  {
   "cell_type": "code",
   "execution_count": 7,
   "id": "7f97cc66",
   "metadata": {},
   "outputs": [],
   "source": [
    "# Format the retrieved documents for context by concatenating them\n",
    "\n",
    "def format_docs_with_id(docs: list[dict]) -> str:\n",
    "    formatted = [\n",
    "        f\"Source ID: {i}\\nArticle Title: {doc[\"title\"]}\\nArticle Snippet: {doc[\"snippet\"]}\\nURL: {doc[\"link\"]}\"\n",
    "        for i, doc in enumerate(docs)\n",
    "    ]\n",
    "    return \"\\n\\n\" + \"\\n\\n\".join(formatted)"
   ]
  },
  {
   "cell_type": "code",
   "execution_count": 8,
   "id": "c7f08b2b",
   "metadata": {},
   "outputs": [],
   "source": [
    "# Define the state graph for the workflow\n",
    "\n",
    "def retrieve(\n",
    "    state: State,\n",
    ") -> State:\n",
    "    \"\"\"Retrieve relevant documents from the web.\"\"\"\n",
    "    search_tool = DuckDuckGoSearchResults(\n",
    "        api_wrapper=DuckDuckGoSearchAPIWrapper(max_results=3),\n",
    "        output_format=\"list\",\n",
    "    )\n",
    "    model_with_tool = model.bind_tools([search_tool])\n",
    "    tool_call = model_with_tool.invoke(state.question).tool_calls[0]\n",
    "    results = search_tool.invoke(tool_call)\n",
    "    state.context = results.artifact\n",
    "    return state\n",
    "\n",
    "\n",
    "def generate_answer(\n",
    "    state: State,\n",
    ") -> State:\n",
    "    \"\"\"Generate an answer based on the retrieved documents.\"\"\"\n",
    "    formatted_docs = format_docs_with_id(state.context)\n",
    "    messages = prompt.invoke({\"question\": state.question, \"context\": formatted_docs})\n",
    "\n",
    "    structured_llm = model.with_structured_output(QuotedAnswer)\n",
    "    response = structured_llm.invoke(messages)\n",
    "    state.answer = response\n",
    "    return state"
   ]
  },
  {
   "cell_type": "code",
   "execution_count": 9,
   "id": "c985d3bd",
   "metadata": {},
   "outputs": [],
   "source": [
    "graph_builder = StateGraph(State).add_sequence([retrieve, generate_answer])\n",
    "graph_builder.add_edge(START, \"retrieve\")\n",
    "graph = graph_builder.compile()"
   ]
  },
  {
   "cell_type": "code",
   "execution_count": 10,
   "id": "f01e703b",
   "metadata": {},
   "outputs": [
    {
     "data": {
      "image/png": "[encoded data removed]",
      "text/plain": [
       "<IPython.core.display.Image object>"
      ]
     },
     "metadata": {},
     "output_type": "display_data"
    }
   ],
   "source": [
    "from IPython.display import Image, display\n",
    "\n",
    "display(Image(graph.get_graph().draw_mermaid_png()))"
   ]
  },
  {
   "cell_type": "code",
   "execution_count": 11,
   "id": "97c22f79",
   "metadata": {},
   "outputs": [
    {
     "data": {
      "text/plain": [
       "QuotedAnswer(answer='Cheetahs are the fastest land animals, reaching speeds of 58 to 65 mph (93 to 104 km/h) and up to 75 mph (120 km/h) in short bursts.', citation=[Citation(text='The cheetah is capable of running at 93 to 104 km/h (58 to 65 mph)', url='https://en.wikipedia.org/wiki/Cheetah'), Citation(text='Cheetahs are the fastest land animals, reaching up to 75 mph (120 km/h) in short bursts.', url='https://natureandwildlife.tv/how-fast-can-a-cheetah-run/')])"
      ]
     },
     "execution_count": 11,
     "metadata": {},
     "output_type": "execute_result"
    }
   ],
   "source": [
    "result = graph.invoke({\"question\": \"How fast are cheetahs?\"})\n",
    "result[\"answer\"]"
   ]
  },
  {
   "cell_type": "code",
   "execution_count": 12,
   "id": "afba8710",
   "metadata": {},
   "outputs": [
    {
     "data": {
      "text/plain": [
       "{'question': 'How fast are cheetahs?',\n",
       " 'context': [{'snippet': 'Adults weigh between 21 and 65 kg (46 and 143 lb). The cheetah is capable of running at 93 to 104 km/h (58 to 65 mph); it has evolved specialized adaptations for speed, including a light build, long thin legs and a long tail. The cheetah was first described in the late 18th century.',\n",
       "   'title': 'Cheetah - Wikipedia',\n",
       "   'link': 'https://en.wikipedia.org/wiki/Cheetah'},\n",
       "  {'snippet': 'Learn how the cheetah is the fastest land animal, but not the fastest on Earth. Discover the speed champions of the air and water, and why speed varies depending on habitat and technique.',\n",
       "   'title': \"The Cheetah Is Not The World's Fastest Animal - WorldAtlas\",\n",
       "   'link': 'https://www.worldatlas.com/animals/the-cheetah-is-not-the-world-s-fastest-animal.html'},\n",
       "  {'snippet': 'Cheetahs are the fastest land animals, reaching up to 75 mph (120 km/h) in short bursts. Learn about their anatomy, hunting strategy, and conservation challenges in this comprehensive guide.',\n",
       "   'title': 'How Fast Can a Cheetah Run? Speed, Anatomy & Conservation',\n",
       "   'link': 'https://natureandwildlife.tv/how-fast-can-a-cheetah-run/'},\n",
       "  {'snippet': 'Cheetahs can reach their top speed of 75 mph (120 km/h) in just a few seconds, but they can only maintain it for around 200 to 300 meters. This means the chase is often over in less than a minute, with the cheetah exhausting its energy reserves in the process.',\n",
       "   'title': 'How Fast Can a Cheetah Run? - Afjrd',\n",
       "   'link': 'https://afjrd.org/how-fast-can-a-cheetah-run/'}],\n",
       " 'answer': QuotedAnswer(answer='Cheetahs are the fastest land animals, reaching speeds of 58 to 65 mph (93 to 104 km/h) and up to 75 mph (120 km/h) in short bursts.', citation=[Citation(text='The cheetah is capable of running at 93 to 104 km/h (58 to 65 mph)', url='https://en.wikipedia.org/wiki/Cheetah'), Citation(text='Cheetahs are the fastest land animals, reaching up to 75 mph (120 km/h) in short bursts.', url='https://natureandwildlife.tv/how-fast-can-a-cheetah-run/')])}"
      ]
     },
     "execution_count": 12,
     "metadata": {},
     "output_type": "execute_result"
    }
   ],
   "source": [
    "result"
   ]
  },
  {
   "cell_type": "markdown",
   "id": "10bfaae1",
   "metadata": {},
   "source": [
    "Trace:\n",
    "\n",
    "![Langsmith Trace](images/web_search_citation_langsmith_trace.png)"
   ]
  }
 ],
 "metadata": {
  "kernelspec": {
   "display_name": "agent-env",
   "language": "python",
   "name": "python3"
  },
  "language_info": {
   "codemirror_mode": {
    "name": "ipython",
    "version": 3
   },
   "file_extension": ".py",
   "mimetype": "text/x-python",
   "name": "python",
   "nbconvert_exporter": "python",
   "pygments_lexer": "ipython3",
   "version": "3.12.9"
  }
 },
 "nbformat": 4,
 "nbformat_minor": 5
}
