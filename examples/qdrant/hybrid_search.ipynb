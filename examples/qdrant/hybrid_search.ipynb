{
 "cells": [
  {
   "cell_type": "markdown",
   "id": "22967c9a",
   "metadata": {},
   "source": [
    "## Hybrid search using QDrant"
   ]
  },
  {
   "cell_type": "code",
   "execution_count": 1,
   "id": "a4803631",
   "metadata": {},
   "outputs": [
    {
     "data": {
      "text/plain": [
       "True"
      ]
     },
     "execution_count": 1,
     "metadata": {},
     "output_type": "execute_result"
    }
   ],
   "source": [
    "import os\n",
    "\n",
    "import torch\n",
    "import tqdm\n",
    "from dotenv import load_dotenv\n",
    "from fastembed import TextEmbedding\n",
    "\n",
    "load_dotenv()"
   ]
  },
  {
   "cell_type": "code",
   "execution_count": 2,
   "id": "2ef7c04e",
   "metadata": {},
   "outputs": [],
   "source": [
    "embedding_model = TextEmbedding(\n",
    "    model_name=\"BAAI/bge-small-en-v1.5\", providers=[\"CUDAExecutionProvider\"]\n",
    ")"
   ]
  },
  {
   "cell_type": "code",
   "execution_count": 3,
   "id": "b82b2305",
   "metadata": {},
   "outputs": [
    {
     "data": {
      "text/plain": [
       "['CUDAExecutionProvider']"
      ]
     },
     "execution_count": 3,
     "metadata": {},
     "output_type": "execute_result"
    }
   ],
   "source": [
    "embedding_model.model.providers"
   ]
  },
  {
   "cell_type": "code",
   "execution_count": 4,
   "id": "ad2737b1",
   "metadata": {},
   "outputs": [
    {
     "data": {
      "text/plain": [
       "<fastembed.text.onnx_embedding.OnnxTextEmbedding at 0x1b7884b9a60>"
      ]
     },
     "execution_count": 4,
     "metadata": {},
     "output_type": "execute_result"
    }
   ],
   "source": [
    "embedding_model.model"
   ]
  },
  {
   "cell_type": "code",
   "execution_count": 5,
   "id": "e5299b11",
   "metadata": {},
   "outputs": [],
   "source": [
    "# Import client library\n",
    "from qdrant_client import QdrantClient, models\n",
    "\n",
    "client = QdrantClient(\n",
    "    url=os.environ.get(\"QDRANT_URL\"), api_key=os.environ.get(\"QDRANT_API_KEY\")\n",
    ")"
   ]
  },
  {
   "cell_type": "code",
   "execution_count": 6,
   "id": "7ea4dd63",
   "metadata": {},
   "outputs": [],
   "source": [
    "dense_vector_name = \"dense\"\n",
    "sparse_vector_name = \"sparse\"\n",
    "dense_model_name = \"sentence-transformers/all-MiniLM-L6-v2\"\n",
    "sparse_model_name = \"prithivida/Splade_PP_en_v1\""
   ]
  },
  {
   "cell_type": "code",
   "execution_count": 10,
   "id": "80b32b01",
   "metadata": {},
   "outputs": [],
   "source": [
    "if not client.collection_exists(\"startups\"):\n",
    "    client.create_collection(\n",
    "        collection_name=\"startups\",\n",
    "        vectors_config={\n",
    "            dense_vector_name: models.VectorParams(\n",
    "                size=client.get_embedding_size(dense_model_name),\n",
    "                distance=models.Distance.COSINE,\n",
    "            )\n",
    "        },  # size and distance are model dependent\n",
    "        sparse_vectors_config={sparse_vector_name: models.SparseVectorParams()},\n",
    "    )"
   ]
  },
  {
   "cell_type": "code",
   "execution_count": 11,
   "id": "5eff3512",
   "metadata": {},
   "outputs": [
    {
     "data": {
      "text/plain": [
       "UpdateResult(operation_id=3, status=<UpdateStatus.COMPLETED: 'completed'>)"
      ]
     },
     "execution_count": 11,
     "metadata": {},
     "output_type": "execute_result"
    }
   ],
   "source": [
    "client.create_payload_index(\n",
    "    collection_name=\"startups\",\n",
    "    field_name=\"city\",\n",
    "    field_schema=\"keyword\",\n",
    ")"
   ]
  },
  {
   "cell_type": "code",
   "execution_count": null,
   "id": "fa8a36ac",
   "metadata": {},
   "outputs": [],
   "source": [
    "import json\n",
    "\n",
    "payload_path = \"startups_demo.json\"\n",
    "# Download from\n",
    "# https://storage.googleapis.com/generall-shared-data/startups_demo.json\n",
    "\n",
    "documents = []\n",
    "metadata = []\n",
    "\n",
    "with open(payload_path) as fd:\n",
    "    for line in fd:\n",
    "        obj = json.loads(line)\n",
    "        description = obj[\"description\"]\n",
    "        dense_document = models.Document(text=description, model=dense_model_name)\n",
    "        sparse_document = models.Document(text=description, model=sparse_model_name)\n",
    "        documents.append(\n",
    "            {\n",
    "                dense_vector_name: dense_document,\n",
    "                sparse_vector_name: sparse_document,\n",
    "            }\n",
    "        )\n",
    "        metadata.append(obj)"
   ]
  },
  {
   "cell_type": "code",
   "execution_count": 14,
   "id": "a4dc9e8e",
   "metadata": {},
   "outputs": [
    {
     "data": {
      "text/plain": [
       "[{'dense': Document(text='QR codes systems for COVID-19.\\nSimple tools for bars, restaurants, offices, and other small proximity businesses.', model='sentence-transformers/all-MiniLM-L6-v2', options=None),\n",
       "  'sparse': Document(text='QR codes systems for COVID-19.\\nSimple tools for bars, restaurants, offices, and other small proximity businesses.', model='prithivida/Splade_PP_en_v1', options=None)},\n",
       " {'dense': Document(text='Point-of-care word of mouth\\nPreferral is a mobile platform that channels physicians’ interest in networking with their peers to build referrals within a hospital system.\\nHospitals are in a race to employ physicians, even though they lose billions each year ($40B in 2014) on employment. Why ...', model='sentence-transformers/all-MiniLM-L6-v2', options=None),\n",
       "  'sparse': Document(text='Point-of-care word of mouth\\nPreferral is a mobile platform that channels physicians’ interest in networking with their peers to build referrals within a hospital system.\\nHospitals are in a race to employ physicians, even though they lose billions each year ($40B in 2014) on employment. Why ...', model='prithivida/Splade_PP_en_v1', options=None)},\n",
       " {'dense': Document(text='Personalized e-commerce for lifestyle products\\nStyleSeek is a personalized e-commerce site for lifestyle products.\\nIt works across the style spectrum by enabling users (both men and women) to create and refine their unique StyleDNA.\\nStyleSeek also promotes new products via its email newsletter, 100% personalized ...', model='sentence-transformers/all-MiniLM-L6-v2', options=None),\n",
       "  'sparse': Document(text='Personalized e-commerce for lifestyle products\\nStyleSeek is a personalized e-commerce site for lifestyle products.\\nIt works across the style spectrum by enabling users (both men and women) to create and refine their unique StyleDNA.\\nStyleSeek also promotes new products via its email newsletter, 100% personalized ...', model='prithivida/Splade_PP_en_v1', options=None)},\n",
       " {'dense': Document(text=\"Hassle-free Home Security\\nScout is a self-installed, wireless home security system. We've created a more open, affordable and modern system than what is available on the market today. With month-to-month contracts and portable devices, Scout is a renter-friendly solution for the other ...\", model='sentence-transformers/all-MiniLM-L6-v2', options=None),\n",
       "  'sparse': Document(text=\"Hassle-free Home Security\\nScout is a self-installed, wireless home security system. We've created a more open, affordable and modern system than what is available on the market today. With month-to-month contracts and portable devices, Scout is a renter-friendly solution for the other ...\", model='prithivida/Splade_PP_en_v1', options=None)},\n",
       " {'dense': Document(text='The referral community\\nInvitation App is a social network where people post their referral codes and collect rewards on autopilot.', model='sentence-transformers/all-MiniLM-L6-v2', options=None),\n",
       "  'sparse': Document(text='The referral community\\nInvitation App is a social network where people post their referral codes and collect rewards on autopilot.', model='prithivida/Splade_PP_en_v1', options=None)}]"
      ]
     },
     "execution_count": 14,
     "metadata": {},
     "output_type": "execute_result"
    }
   ],
   "source": [
    "documents[:5]"
   ]
  },
  {
   "cell_type": "code",
   "execution_count": 31,
   "id": "136d076e",
   "metadata": {},
   "outputs": [
    {
     "name": "stderr",
     "output_type": "stream",
     "text": [
      "100%|██████████| 19/19 [00:01<00:00, 14.36it/s]\n"
     ]
    }
   ],
   "source": [
    "client.upload_collection(\n",
    "    collection_name=\"startups\",\n",
    "    vectors=tqdm.tqdm(documents),\n",
    "    payload=metadata,\n",
    "    parallel=1,  # Use 4 CPU cores to encode data.\n",
    "    # This will spawn a model per process, which might be memory expensive\n",
    "    # Make sure that your system does not use swap, and reduce the amount\n",
    "    # # of processes if it does.\n",
    "    # Otherwise, it might significantly slow down the process.\n",
    "    # Requires wrapping code into if __name__ == '__main__' block\n",
    ")"
   ]
  },
  {
   "cell_type": "code",
   "execution_count": null,
   "id": "f8ceff5b",
   "metadata": {},
   "outputs": [],
   "source": [
    "class HybridSearcher:\n",
    "    DENSE_MODEL = \"sentence-transformers/all-MiniLM-L6-v2\"\n",
    "    SPARSE_MODEL = \"prithivida/Splade_PP_en_v1\"\n",
    "\n",
    "    def __init__(self, collection_name):\n",
    "        self.collection_name = collection_name\n",
    "        self.qdrant_client = QdrantClient(\n",
    "            url=os.environ.get(\"QDRANT_URL\"), api_key=os.environ.get(\"QDRANT_API_KEY\")\n",
    "        )\n",
    "\n",
    "    def search(self, text: str):\n",
    "        city_of_interest = \"Chicago\"\n",
    "\n",
    "        # Define a filter for cities\n",
    "        city_filter = models.Filter(\n",
    "            must=[\n",
    "                models.FieldCondition(\n",
    "                    key=\"city\", match=models.MatchValue(value=city_of_interest)\n",
    "                )\n",
    "            ]\n",
    "        )\n",
    "\n",
    "        search_result = self.qdrant_client.query_points(\n",
    "            collection_name=self.collection_name,\n",
    "            query=models.FusionQuery(\n",
    "                fusion=models.Fusion.RRF  # we are using reciprocal rank fusion here\n",
    "            ),\n",
    "            prefetch=[\n",
    "                models.Prefetch(\n",
    "                    query=models.Document(text=text, model=self.DENSE_MODEL),\n",
    "                    using=dense_vector_name,\n",
    "                ),\n",
    "                models.Prefetch(\n",
    "                    query=models.Document(text=text, model=self.SPARSE_MODEL),\n",
    "                    using=sparse_vector_name,\n",
    "                ),\n",
    "            ],\n",
    "            query_filter=city_filter,  # If you don't want any filters for now\n",
    "            limit=2,  # 2 the closest results\n",
    "        ).points\n",
    "        # `search_result` contains models.QueryResponse structure\n",
    "        # We can access list of scored points with the corresponding similarity scores,\n",
    "        # vectors (if `with_vectors` was set to `True`), and payload via `points` attribute.\n",
    "\n",
    "        # Select and return metadata\n",
    "        metadata = [point.payload for point in search_result]\n",
    "        return metadata"
   ]
  },
  {
   "cell_type": "code",
   "execution_count": 16,
   "id": "387ce0fa",
   "metadata": {},
   "outputs": [],
   "source": [
    "hybrid_searcher = HybridSearcher(collection_name=\"startups\")"
   ]
  },
  {
   "cell_type": "code",
   "execution_count": 17,
   "id": "c00ccf09",
   "metadata": {},
   "outputs": [
    {
     "data": {
      "text/plain": [
       "[{'name': 'NowBoarding ✈️',\n",
       "  'images': 'https://static.above.flights/img/lowcost/envelope_blue.png',\n",
       "  'alt': 'Lowcost Email cheap flights alerts',\n",
       "  'description': 'Invite-only mailing list.\\n\\nWe search the best weekend and long-haul flight deals\\nso you can book before everyone else.',\n",
       "  'link': 'https://nowboarding.club/',\n",
       "  'city': 'Chicago'},\n",
       " {'name': 'Rocketmiles',\n",
       "  'images': 'https://d1qb2nb5cznatu.cloudfront.net/startups/i/158571-e53ddffe9fb3ed5e57080db7134117d0-thumb_jpg.jpg?buster=1361371304',\n",
       "  'alt': 'Rocketmiles -  e-commerce online travel loyalty programs hotels',\n",
       "  'description': \"Fueling more vacations\\nWe enable our customers to travel more, travel better and travel further. 20M+ consumers stock away miles & points to satisfy their wanderlust.\\nFlying around or using credit cards are the only good ways to fill the stockpile today. We've built the third way. Customers ...\",\n",
       "  'link': 'http://www.Rocketmiles.com',\n",
       "  'city': 'Chicago'}]"
      ]
     },
     "execution_count": 17,
     "metadata": {},
     "output_type": "execute_result"
    }
   ],
   "source": [
    "hybrid_searcher.search(\"startup in airplanes\")"
   ]
  },
  {
   "cell_type": "markdown",
   "id": "f366a8b5",
   "metadata": {},
   "source": [
    "### Reference\n",
    "https://qdrant.tech/articles/sparse-vectors/  \n",
    "https://qdrant.tech/documentation/beginner-tutorials/hybrid-search-fastembed/"
   ]
  }
 ],
 "metadata": {
  "kernelspec": {
   "display_name": "agent-env",
   "language": "python",
   "name": "python3"
  },
  "language_info": {
   "codemirror_mode": {
    "name": "ipython",
    "version": 3
   },
   "file_extension": ".py",
   "mimetype": "text/x-python",
   "name": "python",
   "nbconvert_exporter": "python",
   "pygments_lexer": "ipython3",
   "version": "3.12.9"
  }
 },
 "nbformat": 4,
 "nbformat_minor": 5
}
